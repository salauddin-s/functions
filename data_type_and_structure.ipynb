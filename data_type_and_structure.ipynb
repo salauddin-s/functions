{
  "cells": [
    {
      "cell_type": "markdown",
      "metadata": {
        "id": "6yZKCuPaS0Mz"
      },
      "source": [
        "1. What are data structures, and why are they important?\n",
        "  - it is a way of organing and stroing the data in sequencial manner.\n",
        "  - it is important because it help is access the data easily, and upadating\n",
        "  - it reduces memory uses by the right choice of data structure\n",
        "  -example : list,stack,tuple"
      ]
    },
    {
      "cell_type": "markdown",
      "metadata": {
        "id": "D1Tarp6KTJgL"
      },
      "source": [
        "2.  Explain the difference between mutable and immutable data types with examples.\n",
        "   - mutable data type\n",
        "      - the data which can be modified after the creation are called mutable data type\n",
        "      - example:- list and set.\n",
        "      - a=[\"apple\",\"banana\",\"mango\"]\n",
        "        a[0]='cherry'\n",
        "        o/p = ['cherry','banana','mango']\n",
        "        #these are mutable\n",
        "   - immutbale data type\n",
        "      - the data which can not be modified after the creation is called immutable data type.\n",
        "      - a=(\"apple\",\"banana\",\"mango\")\n",
        "        a[0]=\"cherry\"\n",
        "        o/p=error\n",
        "        #these are immutable\n",
        "      - example:- string , tuple and dictionary"
      ]
    },
    {
      "cell_type": "markdown",
      "metadata": {
        "id": "NVMfV7_dToTJ"
      },
      "source": [
        "3. What are the main differences between lists and tuples in Python?\n",
        "  - The main different between list and tuple are list is mutable and tuple is immutable"
      ]
    },
    {
      "cell_type": "markdown",
      "metadata": {
        "id": "a_BhjkUdUPyd"
      },
      "source": [
        "4. Describe how dictionaries store data.\n",
        "  - Dictionary  sotore the data  in {} bracket , inside it ther is  (key:value) form.\n",
        "  - example:- dic={\"Name\":\"salauddin\",\"email\":\"sldn@gmail.com\",\"age\":22}"
      ]
    },
    {
      "cell_type": "markdown",
      "metadata": {
        "id": "bG0n6nBBVRmK"
      },
      "source": [
        "5. Why might you use a set instead of a list in Python?\n",
        "  - Some reason why set is used instead of list\n",
        "    - set are immutable.\n",
        "    - set gives unique value means remove the duplicate element."
      ]
    },
    {
      "cell_type": "markdown",
      "metadata": {
        "id": "ntCcGvtMWM_2"
      },
      "source": [
        "6. What is a string in Python, and how is it different from a list?\n",
        "   - String\n",
        "       - store the sequence of character\n",
        "       - it is define by 'str',\"str\" ,''' str  '''\n",
        "   - list\n",
        "       - it store multiple data type like int,float,string,boolean\n",
        "       - it is define by sqaure bracket []    "
      ]
    },
    {
      "cell_type": "markdown",
      "metadata": {
        "id": "KA4Zy1OaXCF1"
      },
      "source": [
        "7.  How do tuples ensure data integrity in Python?\n",
        "  - if we create tuple then we can not chane,modified in the element of tuble because it is immutbale data type but in list after the list is created we can modified and change the element.this show data integrity in ptthon."
      ]
    },
    {
      "cell_type": "markdown",
      "metadata": {
        "id": "iSa9RKkYXL-6"
      },
      "source": [
        "8. What is a hash table, and how does it relate to dictionaries in Python?\n",
        "    - hash table is a data structur which is use as a key value pair in   dictionary\n",
        "    - we take hashable as a key  in dictionary , tuple is hasable becasue it is immutbale"
      ]
    },
    {
      "cell_type": "markdown",
      "metadata": {
        "id": "OxV0KmcZYCCw"
      },
      "source": [
        "9. Can lists contain different data types in Python?\n",
        "    - yes , list can contain different type of data like int,float,string,booleab,complex value ."
      ]
    },
    {
      "cell_type": "markdown",
      "metadata": {
        "id": "t5FDyq36YcaS"
      },
      "source": [
        "10. Explain why strings are immutable in Python?\n",
        "  - Strings is a sequence of character\n",
        "  - it is immutable so once it object is created then change can't be placed\n",
        "  \n"
      ]
    },
    {
      "cell_type": "markdown",
      "source": [
        "11. What advantages do dictionaries offer over lists for certain tasks?\n",
        "     - dicitionary provide key value pairs that is easy retrive data quickly\n",
        "     - if you have person name ,age and contact number then we can easily find their age  , example dic={'name':'salauddin','age':21}\n",
        "     dic['age']\n",
        "      "
      ],
      "metadata": {
        "id": "htqQ8AhBG9pG"
      }
    },
    {
      "cell_type": "markdown",
      "source": [
        "12. Describe a scenario where using a tuple would be preferable over a list.\n",
        "     - tuple is used over list beacuse of immutability we collect the data in tuple which is not change in future example employee_id , student_reg.no,etc\n",
        "     - tuple is hashable type so we can use it in dictionary as a key\n",
        "     but (list can't use )"
      ],
      "metadata": {
        "id": "0iU6PiHWG-Mo"
      }
    },
    {
      "cell_type": "markdown",
      "source": [
        "13. How do sets handle duplicate values in Python?\n",
        "     - set automaticaly remove the duplicate value\n",
        "     - when we try to insert element which is already in set then it doesnot print that duplicate value\n",
        "     \n"
      ],
      "metadata": {
        "id": "mBTVEQJDG-W4"
      }
    },
    {
      "cell_type": "markdown",
      "source": [
        "14.  How does the “in” keyword work differently for lists and dictionaries?\n",
        "      - in list it check the presence of element in the list , example:- lis=[\"apple\",\"mango\",1,3.5,True] \"apple\" in lis o/p = True\n",
        "         \n",
        "      - in dictionary it check only the key element is present or not  example:- dic={'name':'salauddin','age':21} print(\"name\" in my dic) o/p = True print(21 in dic) o/p = False # does not check value directly\n",
        "    \n",
        "             \n"
      ],
      "metadata": {
        "id": "-Lqk6YohG-aO"
      }
    },
    {
      "cell_type": "markdown",
      "source": [
        "15. Can you modify the elements of a tuple? Explain why or why not.\n",
        "     - we cannot modify in tuple after the object cration because it is immutbale\n",
        "     - we can not modified it beacuse it is fixed element and this is use where the forforming change is strictily probhabited."
      ],
      "metadata": {
        "id": "I85thhuNG-jO"
      }
    },
    {
      "cell_type": "markdown",
      "source": [
        "16.  What is a nested dictionary, and give an example of its use case?\n",
        "     - The dictionary inside dictionary is called nested distionary,\n",
        "     - example is dic={'name':'salauddin','age':22,'conatact':{'emai_id':'sl@gmail.com','mobile_no':'123654789'}}\n",
        "     print(dic)\n",
        "     "
      ],
      "metadata": {
        "id": "cFPkJ8Itc2ik"
      }
    },
    {
      "cell_type": "markdown",
      "source": [
        "17. Describe the time complexity of accessing elements in a dictionary\n",
        "     - Accessing elements in a Python dictionary by key has an average-case time complexity of O(1) (constant time).\n",
        "     - In the worst case, due to hash collisions, the lookup time can degrade to O(n)\n",
        "     - ther operations (insert, update, delete, membership check) also generally run in O(1) on average."
      ],
      "metadata": {
        "id": "itIF5BsIc20E"
      }
    },
    {
      "cell_type": "markdown",
      "source": [
        "18.  In what situations are lists preferred over dictionaries\n",
        "      - when we have simple data list\n",
        "      - it sorted the list in to ascending order\n",
        "      - slicing is possible in list\n",
        "      "
      ],
      "metadata": {
        "id": "lnPFD9mfc23g"
      }
    },
    {
      "cell_type": "markdown",
      "source": [
        "19. Why are dictionaries considered unordered, and how does that affect data retrieval?\n",
        "      - dictionary are unorderd but python 3.7 version dictionary retain the order of insertion , this means if you iterate over a dictionary ,the item will be returned in they were added\n",
        "      - You cannot access values by index/position like in a list (e.g., dict[0] will raise an error).\n",
        "      - You must always retrieve data using the key (dict['name'])."
      ],
      "metadata": {
        "id": "-Fyj_DjOdCmX"
      }
    },
    {
      "cell_type": "markdown",
      "source": [
        "20.  Explain the difference between a list and a dictionary in terms of data retrieval.\n",
        "     - in list if you want to retrive the data then print list_name[index]\n",
        "     for example fruits=[\"apple\", \"banana\", \"cherry\"] print(fruit[1]) o/p=banana\n",
        "     - in dictionary if you want to retrive data then it easy to find becuse it is alredy define with key value pair for example fruit_colour={\"apple\":\"red\", \"banana\":\"yellow\",\"cherry\":\"red\"}\n",
        "     print(fruit_color[\"banana\"]) o/p = yellow"
      ],
      "metadata": {
        "id": "lCrzEOotdC7r"
      }
    },
    {
      "cell_type": "code",
      "execution_count": null,
      "metadata": {
        "id": "cdsZ3lGeaQIN"
      },
      "outputs": [],
      "source": [
        "# 1. Write a code to create a string with your name and print it.\n",
        "'''\n",
        "name=\"salauddin\"\n",
        "print(\"My name is \",name)\n",
        "\n",
        "'''"
      ]
    },
    {
      "cell_type": "code",
      "execution_count": null,
      "metadata": {
        "id": "51Qf8icBbcil"
      },
      "outputs": [],
      "source": [
        "# 2. Write a code to find the length of the string \"Hello World\".\n",
        "'''\n",
        "a=(\"hello world\")\n",
        "len(a)\n",
        "'''"
      ]
    },
    {
      "cell_type": "code",
      "execution_count": null,
      "metadata": {
        "id": "lyrIQvG5b9kO"
      },
      "outputs": [],
      "source": [
        "# 3. Write a code to slice the first 3 characters from the string \"Python Programming\".\n",
        "'''\n",
        "a=\"pyhthon programming\"\n",
        "a[:3]\n",
        "'''"
      ]
    },
    {
      "cell_type": "code",
      "source": [
        "# 4. Write a code to convert the string \"hello\" to uppercase.\n",
        "'''\n",
        "st=\"hello\"\n",
        "st.upper()\n",
        "'''"
      ],
      "metadata": {
        "id": "s4CwouYCzcFx"
      },
      "execution_count": null,
      "outputs": []
    },
    {
      "cell_type": "code",
      "source": [
        "# 5.  Write a code to replace the word \"apple\" with \"orange\" in the string \"I like apple\".\n",
        "'''\n",
        "rep=\"I like apple\"\n",
        "rep.replace(\"apple\",\"orange\")\n",
        "'''"
      ],
      "metadata": {
        "id": "uiGwTe0Z0Prd"
      },
      "execution_count": null,
      "outputs": []
    },
    {
      "cell_type": "code",
      "source": [
        "# 6.  Write a code to create a list with numbers 1 to 5 and print it.\n",
        "# '''\n",
        "lis=[1,2,3,4,5]\n",
        "print(lis)\n",
        "# '''"
      ],
      "metadata": {
        "id": "mwq9alzl0yui"
      },
      "execution_count": null,
      "outputs": []
    },
    {
      "cell_type": "code",
      "source": [
        "# 7. Write a code to append the number 10 to the list [1, 2, 3, 4].\n",
        "'''\n",
        "lis=[1,2,3,4]\n",
        "lis.append(10)\n",
        "print(lis)\n",
        "'''"
      ],
      "metadata": {
        "id": "5tDm02JA1A-7"
      },
      "execution_count": null,
      "outputs": []
    },
    {
      "cell_type": "code",
      "source": [
        "# 8.  Write a code to remove the number 3 from the list [1, 2, 3, 4, 5].\n",
        "'''\n",
        "lis=[1,2,3,4,5]\n",
        "lis.remove(3)\n",
        "print(lis)\n",
        "'''"
      ],
      "metadata": {
        "id": "-Y5dktur1kQX"
      },
      "execution_count": null,
      "outputs": []
    },
    {
      "cell_type": "code",
      "source": [
        "# 9. Write a code to access the second element in the list ['a', 'b', 'c', 'd'].\n",
        "'''\n",
        "lis=['a','b','c','d']\n",
        "lis[1]\n",
        "'''"
      ],
      "metadata": {
        "id": "oazq1eCU1yTm"
      },
      "execution_count": null,
      "outputs": []
    },
    {
      "cell_type": "code",
      "source": [
        "# 10.  Write a code to reverse the list [10, 20, 30, 40, 50].\n",
        "'''\n",
        "lis=[10,20,30,40,50]\n",
        "lis[::-1]\n",
        "'''"
      ],
      "metadata": {
        "id": "YYv1Sp3H2Pv1"
      },
      "execution_count": null,
      "outputs": []
    },
    {
      "cell_type": "code",
      "source": [
        "# 11.  Write a code to create a tuple with the elements 100, 200, 300 and print it.\n",
        "'''\n",
        "tup=(100,200,300)\n",
        "print(tup)\n",
        "'''"
      ],
      "metadata": {
        "id": "NWkcz2W02ffv"
      },
      "execution_count": null,
      "outputs": []
    },
    {
      "cell_type": "code",
      "source": [
        "# 12. Write a code to access the second-to-last element of the tuple ('red', 'green', 'blue', 'yellow').\n",
        "'''\n",
        "tup=('red', 'green', 'blue', 'yellow')\n",
        "tup[1:]\n",
        "\n",
        "'''"
      ],
      "metadata": {
        "id": "qlq2DD4j2yoV"
      },
      "execution_count": null,
      "outputs": []
    },
    {
      "cell_type": "code",
      "source": [
        "# 13. Write a code to find the minimum number in the tuple (10, 20, 5, 15).\n",
        "'''\n",
        "tup=(10, 20, 5, 15)\n",
        "min(tup)\n",
        "'''"
      ],
      "metadata": {
        "id": "7qH3ibde3kNZ"
      },
      "execution_count": null,
      "outputs": []
    },
    {
      "cell_type": "code",
      "source": [
        "# 14.  Write a code to find the index of the element \"cat\" in the tuple ('dog', 'cat', 'rabbit').\n",
        "'''\n",
        "tup=('dog', 'cat', 'rabbit')\n",
        "tup.index(\"cat\")\n",
        "'''"
      ],
      "metadata": {
        "id": "LXr0D8VZ4UA7"
      },
      "execution_count": null,
      "outputs": []
    },
    {
      "cell_type": "code",
      "source": [
        "# 15.  Write a code to create a tuple containing three different fruits and check if \"kiwi\" is in it.\n",
        "'''\n",
        "tup=(\"apple\",\"banana\",\"mango\")\n",
        "\"kiwi\" in tup\n",
        "'''"
      ],
      "metadata": {
        "id": "Jdc7g9jR5GfF"
      },
      "execution_count": null,
      "outputs": []
    },
    {
      "cell_type": "code",
      "source": [
        "# 16.  Write a code to create a set with the elements 'a', 'b', 'c' and print it.\n",
        "'''\n",
        "s={'a', 'b', 'c'}\n",
        "print(s)\n",
        "'''"
      ],
      "metadata": {
        "id": "xGm1ONmZ8BVg"
      },
      "execution_count": null,
      "outputs": []
    },
    {
      "cell_type": "code",
      "source": [
        "# 17. Write a code to clear all elements from the set {1, 2, 3, 4, 5}.\n",
        "'''\n",
        "s={1, 2, 3, 4, 5}\n",
        "s.clear()\n",
        "print(s)\n",
        "'''"
      ],
      "metadata": {
        "id": "R62nM9XV8Xsy"
      },
      "execution_count": null,
      "outputs": []
    },
    {
      "cell_type": "code",
      "source": [
        "# 18. Write a code to remove the element 4 from the set {1, 2, 3, 4}.\n",
        "'''\n",
        "s={1, 2, 3, 4}\n",
        "s.remove(4)\n",
        "print(s)\n",
        "'''"
      ],
      "metadata": {
        "id": "aVPTdUwI8uoI"
      },
      "execution_count": null,
      "outputs": []
    },
    {
      "cell_type": "code",
      "source": [
        "# 19. Write a code to find the union of two sets {1, 2, 3} and {3, 4, 5}.\n",
        "'''\n",
        "s1={1, 2, 3}\n",
        "s2={3, 4, 5}\n",
        "s1|s2\n",
        "'''"
      ],
      "metadata": {
        "id": "ffqB8r509BLk"
      },
      "execution_count": null,
      "outputs": []
    },
    {
      "cell_type": "code",
      "source": [
        "# 20. Write a code to find the intersection of two sets {1, 2, 3} and {2, 3, 4}.\n",
        "'''\n",
        "s1={1, 2, 3}\n",
        "s2={2, 3, 4}\n",
        "s1&s2\n",
        "'''"
      ],
      "metadata": {
        "id": "ohJfgSLh9VJN"
      },
      "execution_count": null,
      "outputs": []
    },
    {
      "cell_type": "code",
      "source": [
        "# 21.  Write a code to create a dictionary with the keys \"name\", \"age\", and \"city\", and print it.\n",
        "'''\n",
        "dic={\"name\": \"salauddin\", \"age\": 21, \"city\":\" Bhubaneswar\"}\n",
        "print(dic)\n",
        "'''"
      ],
      "metadata": {
        "id": "1dZgokBC9us0"
      },
      "execution_count": null,
      "outputs": []
    },
    {
      "cell_type": "code",
      "source": [
        "# 22. Write a code to add a new key-value pair \"country\": \"USA\" to the dictionary {'name': 'John', 'age': 25}.\n",
        "'''\n",
        "dic={'name': 'John', 'age': 25}\n",
        "dic2={\"country\":\"usa\"}\n",
        "dic.update(dic2)\n",
        "print(dic)\n",
        "\n",
        "'''"
      ],
      "metadata": {
        "id": "6F30L5SV-KH1"
      },
      "execution_count": null,
      "outputs": []
    },
    {
      "cell_type": "code",
      "source": [
        "# 23. Write a code to access the value associated with the key \"name\" in the dictionary {'name': 'Alice', 'age': 30}.\n",
        "'''\n",
        "dic={'name': 'Alice', 'age': 30}\n",
        "dic.get('name')\n",
        "'''"
      ],
      "metadata": {
        "id": "QpWB5gFu_-s1"
      },
      "execution_count": null,
      "outputs": []
    },
    {
      "cell_type": "code",
      "source": [
        "# 24. Write a code to remove the key \"age\" from the dictionary {'name': 'Bob', 'age': 22, 'city': 'New York'}.\n",
        "'''\n",
        "dic={'name': 'Bob', 'age': 22, 'city': 'New York'}\n",
        "dic.pop(\"age\")\n",
        "print(dic)\n",
        "'''"
      ],
      "metadata": {
        "id": "AK95a8p3AFqR"
      },
      "execution_count": null,
      "outputs": []
    },
    {
      "cell_type": "code",
      "source": [
        "# 25. Write a code to check if the key \"city\" exists in the dictionary {'name': 'Alice', 'city': 'Paris'}.\n",
        "'''\n",
        "dic={'name': 'Alice', 'city': 'Paris'}\n",
        "\"city\" in dic\n",
        "'''"
      ],
      "metadata": {
        "id": "WqMwUB1gAPUo"
      },
      "execution_count": null,
      "outputs": []
    },
    {
      "cell_type": "code",
      "source": [
        "# 26. Write a code to create a list, a tuple, and a dictionary, and print them all.\n",
        "'''\n",
        "lis=[\"apple\",\"mango\",\"orange\",\"banan\"]\n",
        "tup=(\"apple\",\"mango\",\"orange\",\"banan\")\n",
        "dic={\"fruit1\":\"apple\",\"friut2\":\"mango\",\"friut3\": \"orange\",\"friut4\":\"banan\"}\n",
        "print(lis,tup,dic)\n",
        "'''"
      ],
      "metadata": {
        "id": "UDIQrppcAQzG"
      },
      "execution_count": null,
      "outputs": []
    },
    {
      "cell_type": "code",
      "source": [
        "# 27. Write a code to create a list of 5 random numbers between 1 and 100, sort it in ascending order, and print the result.(replaced)\n",
        "'''\n",
        "lis=[4,80,70,85,9]\n",
        "lis.sort()\n",
        "print(lis)\n",
        "'''"
      ],
      "metadata": {
        "id": "qXDXm9wvB3Sr"
      },
      "execution_count": null,
      "outputs": []
    },
    {
      "cell_type": "code",
      "source": [
        "# 28. Write a code to create a list with strings and print the element at the third index.\n",
        "'''\n",
        "lis=[\"salauddin\",\"manish\",\"raju\",\"shyam\",\"monu\"]\n",
        "lis[2]\n",
        "'''"
      ],
      "metadata": {
        "id": "kriq3HQcEQzh"
      },
      "execution_count": null,
      "outputs": []
    },
    {
      "cell_type": "code",
      "source": [
        "# 29. Write a code to combine two dictionaries into one and print the result.\n",
        "'''\n",
        "dic={\"name\":\"allen\",\"age\":25,\"contact\":123456789}\n",
        "dic2={\"course\":\"data science\"}\n",
        "dic.update(dic2)\n",
        "print(dic)\n",
        "'''"
      ],
      "metadata": {
        "id": "USWvCZu1FVz2"
      },
      "execution_count": null,
      "outputs": []
    },
    {
      "cell_type": "code",
      "source": [
        "# 30. Write a code to convert a list of strings into a set.\n",
        "'''\n",
        "lis=[\"apple\",\"mango\",\"cherry\"]\n",
        "set1=set(lis)\n",
        "print(set1)\n",
        "'''"
      ],
      "metadata": {
        "id": "7iKdPyLQFmRV"
      },
      "execution_count": null,
      "outputs": []
    }
  ],
  "metadata": {
    "colab": {
      "provenance": []
    },
    "kernelspec": {
      "display_name": "Python 3",
      "name": "python3"
    },
    "language_info": {
      "name": "python"
    }
  },
  "nbformat": 4,
  "nbformat_minor": 0
}